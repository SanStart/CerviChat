{
 "cells": [
  {
   "cell_type": "code",
   "execution_count": 2,
   "metadata": {
    "_cell_guid": "b1076dfc-b9ad-4769-8c92-a6c4dae69d19",
    "_uuid": "8f2839f25d086af736a60e9eeb907d3b93b6e0e5",
    "execution": {
     "iopub.execute_input": "2022-05-11T09:42:11.139308Z",
     "iopub.status.busy": "2022-05-11T09:42:11.139012Z",
     "iopub.status.idle": "2022-05-11T09:42:15.831751Z",
     "shell.execute_reply": "2022-05-11T09:42:15.830910Z",
     "shell.execute_reply.started": "2022-05-11T09:42:11.139280Z"
    }
   },
   "outputs": [
    {
     "name": "stdout",
     "output_type": "stream",
     "text": [
      "Data Loaded\n"
     ]
    }
   ],
   "source": [
    "# This Python 3 environment comes with many helpful analytics libraries installed\n",
    "# It is defined by the kaggle/python Docker image: https://github.com/kaggle/docker-python\n",
    "# For example, here's several helpful packages to load\n",
    "\n",
    "import numpy as np # linear algebra\n",
    "import pandas as pd # data processing, CSV file I/O (e.g. pd.read_csv)\n",
    "\n",
    "# Input data files are available in the read-only \"../input/\" directory\n",
    "# For example, running this (by clicking run or pressing Shift+Enter) will list all files under the input directory\n",
    "\n",
    "import os\n",
    "for dirname, _, filenames in os.walk('/kaggle/input'):\n",
    "    for filename in filenames:\n",
    "        continue\n",
    "print(\"Data Loaded\")\n",
    "        #print(os.path.join(dirname, filename))\n",
    "\n",
    "# You can write up to 20GB to the current directory (/kaggle/working/) that gets preserved as output when you create a version using \"Save & Run All\" \n",
    "# You can also write temporary files to /kaggle/temp/, but they won't be saved outside of the current session"
   ]
  },
  {
   "cell_type": "code",
   "execution_count": 3,
   "metadata": {
    "execution": {
     "iopub.execute_input": "2022-05-11T09:42:15.834377Z",
     "iopub.status.busy": "2022-05-11T09:42:15.833573Z",
     "iopub.status.idle": "2022-05-11T09:42:17.582373Z",
     "shell.execute_reply": "2022-05-11T09:42:17.581421Z",
     "shell.execute_reply.started": "2022-05-11T09:42:15.834332Z"
    }
   },
   "outputs": [
    {
     "ename": "ModuleNotFoundError",
     "evalue": "No module named 'cv2'",
     "output_type": "error",
     "traceback": [
      "\u001b[1;31m---------------------------------------------------------------------------\u001b[0m",
      "\u001b[1;31mModuleNotFoundError\u001b[0m                       Traceback (most recent call last)",
      "Input \u001b[1;32mIn [3]\u001b[0m, in \u001b[0;36m<cell line: 1>\u001b[1;34m()\u001b[0m\n\u001b[1;32m----> 1\u001b[0m \u001b[38;5;28;01mimport\u001b[39;00m \u001b[38;5;21;01mcv2\u001b[39;00m\n\u001b[0;32m      2\u001b[0m \u001b[38;5;28;01mimport\u001b[39;00m \u001b[38;5;21;01mos\u001b[39;00m\n\u001b[0;32m      3\u001b[0m \u001b[38;5;28;01mimport\u001b[39;00m \u001b[38;5;21;01mpandas\u001b[39;00m \u001b[38;5;28;01mas\u001b[39;00m \u001b[38;5;21;01mpd\u001b[39;00m\n",
      "\u001b[1;31mModuleNotFoundError\u001b[0m: No module named 'cv2'"
     ]
    }
   ],
   "source": [
    "import cv2\n",
    "import os\n",
    "import pandas as pd\n",
    "import numpy as np\n",
    "from random import shuffle\n",
    "from tqdm import tqdm\n",
    "import scipy\n",
    "import skimage\n",
    "from skimage.transform import resize\n",
    "from PIL import Image\n",
    "import sklearn"
   ]
  },
  {
   "cell_type": "code",
   "execution_count": 5,
   "metadata": {
    "execution": {
     "iopub.execute_input": "2022-05-11T09:42:18.525201Z",
     "iopub.status.busy": "2022-05-11T09:42:18.524861Z",
     "iopub.status.idle": "2022-05-11T09:42:24.941974Z",
     "shell.execute_reply": "2022-05-11T09:42:24.941279Z",
     "shell.execute_reply.started": "2022-05-11T09:42:18.525166Z"
    }
   },
   "outputs": [],
   "source": [
    "import tensorflow as tf\n",
    "import keras\n",
    "from PIL import Image\n",
    "from IPython.display import display\n",
    "from keras.layers import Dense,Conv2D, Flatten, MaxPool2D, Dropout\n",
    "from keras.models import Sequential\n",
    "from keras.preprocessing import image\n",
    "from keras.callbacks import ModelCheckpoint\n",
    "from keras.models import load_model\n",
    "from sklearn.model_selection import train_test_split\n",
    "from keras.utils.vis_utils import plot_model\n",
    "from keras.callbacks import ModelCheckpoint\n",
    "import matplotlib.pyplot as plt"
   ]
  },
  {
   "cell_type": "code",
   "execution_count": 6,
   "metadata": {
    "execution": {
     "iopub.execute_input": "2022-05-11T09:42:24.944096Z",
     "iopub.status.busy": "2022-05-11T09:42:24.943623Z",
     "iopub.status.idle": "2022-05-11T09:42:24.952356Z",
     "shell.execute_reply": "2022-05-11T09:42:24.951278Z",
     "shell.execute_reply.started": "2022-05-11T09:42:24.944054Z"
    }
   },
   "outputs": [
    {
     "name": "stdout",
     "output_type": "stream",
     "text": [
      "['herlev_pap_smear', 'sipakmed_wsi_pap_smear', 'sipakmed_fci_pap_smear']\n"
     ]
    }
   ],
   "source": [
    "print(os.listdir(\"/kaggle/input/papsmeardatasets/\"))"
   ]
  },
  {
   "cell_type": "code",
   "execution_count": 7,
   "metadata": {
    "execution": {
     "iopub.execute_input": "2022-05-11T09:42:24.954462Z",
     "iopub.status.busy": "2022-05-11T09:42:24.953979Z",
     "iopub.status.idle": "2022-05-11T09:42:24.963785Z",
     "shell.execute_reply": "2022-05-11T09:42:24.963004Z",
     "shell.execute_reply.started": "2022-05-11T09:42:24.954427Z"
    }
   },
   "outputs": [],
   "source": [
    "herlev= \"/kaggle/input/papsmeardatasets/herlev_pap_smear/\"\n",
    "sipakmed= \"/kaggle/input/papsmeardatasets/sipakmed_fci_pap_smear/\""
   ]
  },
  {
   "cell_type": "code",
   "execution_count": 8,
   "metadata": {
    "execution": {
     "iopub.execute_input": "2022-05-11T09:42:24.965993Z",
     "iopub.status.busy": "2022-05-11T09:42:24.965364Z",
     "iopub.status.idle": "2022-05-11T09:42:24.983753Z",
     "shell.execute_reply": "2022-05-11T09:42:24.982652Z",
     "shell.execute_reply.started": "2022-05-11T09:42:24.965946Z"
    }
   },
   "outputs": [
    {
     "data": {
      "text/plain": [
       "['normal_intermediate',\n",
       " 'abnormal_moderate_dysplastic',\n",
       " 'abnormal_severe_dysplastic',\n",
       " 'abnormal_carcinoma_in_situ',\n",
       " 'normal_columnar',\n",
       " 'normal_superficiel',\n",
       " 'abnormal_light_dysplastic']"
      ]
     },
     "execution_count": 8,
     "metadata": {},
     "output_type": "execute_result"
    }
   ],
   "source": [
    "os.listdir(herlev)"
   ]
  },
  {
   "cell_type": "code",
   "execution_count": 9,
   "metadata": {
    "execution": {
     "iopub.execute_input": "2022-05-11T09:42:24.985722Z",
     "iopub.status.busy": "2022-05-11T09:42:24.984797Z",
     "iopub.status.idle": "2022-05-11T09:42:24.993010Z",
     "shell.execute_reply": "2022-05-11T09:42:24.992331Z",
     "shell.execute_reply.started": "2022-05-11T09:42:24.985687Z"
    }
   },
   "outputs": [
    {
     "data": {
      "text/plain": [
       "['normal_Parabasal',\n",
       " 'benign_Metaplastic',\n",
       " 'abnormal_Dyskeratotic',\n",
       " 'normal_Superficial_Intermediate',\n",
       " 'abnormal_Koilocytotic']"
      ]
     },
     "execution_count": 9,
     "metadata": {},
     "output_type": "execute_result"
    }
   ],
   "source": [
    "os.listdir(sipakmed)"
   ]
  },
  {
   "cell_type": "code",
   "execution_count": 10,
   "metadata": {
    "execution": {
     "iopub.execute_input": "2022-05-11T09:42:24.994651Z",
     "iopub.status.busy": "2022-05-11T09:42:24.994085Z",
     "iopub.status.idle": "2022-05-11T09:42:25.004782Z",
     "shell.execute_reply": "2022-05-11T09:42:25.004106Z",
     "shell.execute_reply.started": "2022-05-11T09:42:24.994621Z"
    }
   },
   "outputs": [],
   "source": [
    "data_one= os.listdir(herlev)\n",
    "data_two= os.listdir(sipakmed)"
   ]
  },
  {
   "cell_type": "code",
   "execution_count": 11,
   "metadata": {
    "execution": {
     "iopub.execute_input": "2022-05-11T09:42:25.006596Z",
     "iopub.status.busy": "2022-05-11T09:42:25.006090Z",
     "iopub.status.idle": "2022-05-11T09:42:25.015715Z",
     "shell.execute_reply": "2022-05-11T09:42:25.015077Z",
     "shell.execute_reply.started": "2022-05-11T09:42:25.006561Z"
    }
   },
   "outputs": [],
   "source": [
    "def get_label(data):\n",
    "    for next_dir in os.listdir(data):\n",
    "        if next_dir.startswith('normal') or next_dir.startswith('benign'):\n",
    "            label= str(directory)\n",
    "        elif next_dir.startswith('abnormal'):\n",
    "            label= str(directory)\n",
    "            \n",
    "    return next_dir, label"
   ]
  },
  {
   "cell_type": "code",
   "execution_count": 12,
   "metadata": {
    "execution": {
     "iopub.execute_input": "2022-05-11T09:42:25.017571Z",
     "iopub.status.busy": "2022-05-11T09:42:25.017143Z",
     "iopub.status.idle": "2022-05-11T09:42:25.033485Z",
     "shell.execute_reply": "2022-05-11T09:42:25.032472Z",
     "shell.execute_reply.started": "2022-05-11T09:42:25.017489Z"
    }
   },
   "outputs": [],
   "source": [
    "def get_data(Dir):\n",
    "    X = []\n",
    "    y = []\n",
    "    \n",
    "    for dir_name in Dir:\n",
    "        for nextDir in os.listdir(dir_name):\n",
    "            if not nextDir.startswith('.'):\n",
    "                if nextDir.startswith('normal'):\n",
    "                    label = str(nextDir)\n",
    "                elif nextDir.startswith('abnormal') or nextDir.startswith('benign'):\n",
    "                    label = str(nextDir)\n",
    "\n",
    "                temp = dir_name + nextDir\n",
    "\n",
    "                for file in tqdm(os.listdir(temp)):\n",
    "                    if not file.endswith('d.bmp') and not file.endswith('dat'):\n",
    "                        img = cv2.imread(temp + '/' + file)\n",
    "                        if img is not None:\n",
    "                            img = skimage.transform.resize(img, (64,64,3))\n",
    "                            #img_file = scipy.misc.imresize(arr=img_file, size=(150, 150, 3))\n",
    "                            img = np.asarray(img)\n",
    "                            X.append(img)\n",
    "                            y.append(label)\n",
    "                    \n",
    "    X = np.asarray(X)\n",
    "    return X,y"
   ]
  },
  {
   "cell_type": "code",
   "execution_count": 13,
   "metadata": {
    "execution": {
     "iopub.execute_input": "2022-05-11T09:42:25.035152Z",
     "iopub.status.busy": "2022-05-11T09:42:25.034894Z",
     "iopub.status.idle": "2022-05-11T09:42:25.048512Z",
     "shell.execute_reply": "2022-05-11T09:42:25.047283Z",
     "shell.execute_reply.started": "2022-05-11T09:42:25.035124Z"
    }
   },
   "outputs": [],
   "source": [
    "data= [herlev, sipakmed]"
   ]
  },
  {
   "cell_type": "code",
   "execution_count": 14,
   "metadata": {
    "execution": {
     "iopub.execute_input": "2022-05-11T09:42:25.051428Z",
     "iopub.status.busy": "2022-05-11T09:42:25.050862Z",
     "iopub.status.idle": "2022-05-11T09:43:24.840079Z",
     "shell.execute_reply": "2022-05-11T09:43:24.838726Z",
     "shell.execute_reply.started": "2022-05-11T09:42:25.051324Z"
    }
   },
   "outputs": [
    {
     "name": "stderr",
     "output_type": "stream",
     "text": [
      "100%|██████████| 140/140 [00:01<00:00, 108.42it/s]\n",
      "100%|██████████| 292/292 [00:01<00:00, 234.30it/s]\n",
      "100%|██████████| 394/394 [00:01<00:00, 299.78it/s]\n",
      "100%|██████████| 300/300 [00:00<00:00, 310.86it/s]\n",
      "100%|██████████| 196/196 [00:00<00:00, 297.89it/s]\n",
      "100%|██████████| 148/148 [00:01<00:00, 93.42it/s] \n",
      "100%|██████████| 364/364 [00:01<00:00, 199.80it/s]\n",
      "100%|██████████| 2361/2361 [00:08<00:00, 276.91it/s]\n",
      "100%|██████████| 2379/2379 [00:08<00:00, 273.27it/s]\n",
      "100%|██████████| 2439/2439 [00:05<00:00, 412.10it/s]\n",
      "100%|██████████| 2493/2493 [00:19<00:00, 129.75it/s]\n",
      "100%|██████████| 2475/2475 [00:08<00:00, 300.27it/s]\n"
     ]
    }
   ],
   "source": [
    "X, y= get_data(data)"
   ]
  },
  {
   "cell_type": "code",
   "execution_count": 15,
   "metadata": {
    "execution": {
     "iopub.execute_input": "2022-05-11T09:43:24.841746Z",
     "iopub.status.busy": "2022-05-11T09:43:24.841449Z",
     "iopub.status.idle": "2022-05-11T09:43:24.847475Z",
     "shell.execute_reply": "2022-05-11T09:43:24.846796Z",
     "shell.execute_reply.started": "2022-05-11T09:43:24.841713Z"
    }
   },
   "outputs": [
    {
     "name": "stdout",
     "output_type": "stream",
     "text": [
      "Counter({'normal_Superficial_Intermediate': 831, 'abnormal_Koilocytotic': 825, 'abnormal_Dyskeratotic': 813, 'benign_Metaplastic': 793, 'normal_Parabasal': 787, 'abnormal_severe_dysplastic': 197, 'abnormal_light_dysplastic': 182, 'abnormal_carcinoma_in_situ': 150, 'abnormal_moderate_dysplastic': 146, 'normal_columnar': 98, 'normal_superficiel': 74, 'normal_intermediate': 70})\n"
     ]
    }
   ],
   "source": [
    "from collections import Counter\n",
    "y_counter= Counter(y)\n",
    "print (y_counter)"
   ]
  },
  {
   "cell_type": "code",
   "execution_count": 16,
   "metadata": {
    "execution": {
     "iopub.execute_input": "2022-05-11T09:43:24.849192Z",
     "iopub.status.busy": "2022-05-11T09:43:24.848907Z",
     "iopub.status.idle": "2022-05-11T09:43:24.865998Z",
     "shell.execute_reply": "2022-05-11T09:43:24.865306Z",
     "shell.execute_reply.started": "2022-05-11T09:43:24.849151Z"
    }
   },
   "outputs": [],
   "source": [
    "y_mapping= {'normal_Superficial_Intermediate': 0,\n",
    "            'abnormal_Koilocytotic': 1,\n",
    "            'abnormal_Dyskeratotic': 2,\n",
    "            'benign_Metaplastic': 3,\n",
    "            'normal_Parabasal': 4,\n",
    "            'abnormal_severe_dysplastic': 5,\n",
    "            'abnormal_light_dysplastic': 6,\n",
    "            'abnormal_carcinoma_in_situ': 7,\n",
    "            'abnormal_moderate_dysplastic': 8,\n",
    "            'normal_columnar': 9, \n",
    "            'normal_superficiel': 10,\n",
    "            'normal_intermediate': 11}\n",
    "\n",
    "y_df = pd.DataFrame (y, columns = ['y'])"
   ]
  },
  {
   "cell_type": "code",
   "execution_count": 17,
   "metadata": {
    "execution": {
     "iopub.execute_input": "2022-05-11T09:43:24.867342Z",
     "iopub.status.busy": "2022-05-11T09:43:24.867016Z",
     "iopub.status.idle": "2022-05-11T09:43:24.893561Z",
     "shell.execute_reply": "2022-05-11T09:43:24.892449Z",
     "shell.execute_reply.started": "2022-05-11T09:43:24.867292Z"
    }
   },
   "outputs": [
    {
     "data": {
      "text/html": [
       "<div>\n",
       "<style scoped>\n",
       "    .dataframe tbody tr th:only-of-type {\n",
       "        vertical-align: middle;\n",
       "    }\n",
       "\n",
       "    .dataframe tbody tr th {\n",
       "        vertical-align: top;\n",
       "    }\n",
       "\n",
       "    .dataframe thead th {\n",
       "        text-align: right;\n",
       "    }\n",
       "</style>\n",
       "<table border=\"1\" class=\"dataframe\">\n",
       "  <thead>\n",
       "    <tr style=\"text-align: right;\">\n",
       "      <th></th>\n",
       "      <th>y</th>\n",
       "    </tr>\n",
       "  </thead>\n",
       "  <tbody>\n",
       "    <tr>\n",
       "      <th>0</th>\n",
       "      <td>normal_intermediate</td>\n",
       "    </tr>\n",
       "    <tr>\n",
       "      <th>1</th>\n",
       "      <td>normal_intermediate</td>\n",
       "    </tr>\n",
       "    <tr>\n",
       "      <th>2</th>\n",
       "      <td>normal_intermediate</td>\n",
       "    </tr>\n",
       "    <tr>\n",
       "      <th>3</th>\n",
       "      <td>normal_intermediate</td>\n",
       "    </tr>\n",
       "    <tr>\n",
       "      <th>4</th>\n",
       "      <td>normal_intermediate</td>\n",
       "    </tr>\n",
       "    <tr>\n",
       "      <th>...</th>\n",
       "      <td>...</td>\n",
       "    </tr>\n",
       "    <tr>\n",
       "      <th>4961</th>\n",
       "      <td>abnormal_Koilocytotic</td>\n",
       "    </tr>\n",
       "    <tr>\n",
       "      <th>4962</th>\n",
       "      <td>abnormal_Koilocytotic</td>\n",
       "    </tr>\n",
       "    <tr>\n",
       "      <th>4963</th>\n",
       "      <td>abnormal_Koilocytotic</td>\n",
       "    </tr>\n",
       "    <tr>\n",
       "      <th>4964</th>\n",
       "      <td>abnormal_Koilocytotic</td>\n",
       "    </tr>\n",
       "    <tr>\n",
       "      <th>4965</th>\n",
       "      <td>abnormal_Koilocytotic</td>\n",
       "    </tr>\n",
       "  </tbody>\n",
       "</table>\n",
       "<p>4966 rows × 1 columns</p>\n",
       "</div>"
      ],
      "text/plain": [
       "                          y\n",
       "0       normal_intermediate\n",
       "1       normal_intermediate\n",
       "2       normal_intermediate\n",
       "3       normal_intermediate\n",
       "4       normal_intermediate\n",
       "...                     ...\n",
       "4961  abnormal_Koilocytotic\n",
       "4962  abnormal_Koilocytotic\n",
       "4963  abnormal_Koilocytotic\n",
       "4964  abnormal_Koilocytotic\n",
       "4965  abnormal_Koilocytotic\n",
       "\n",
       "[4966 rows x 1 columns]"
      ]
     },
     "execution_count": 17,
     "metadata": {},
     "output_type": "execute_result"
    }
   ],
   "source": [
    "y_df"
   ]
  },
  {
   "cell_type": "code",
   "execution_count": 18,
   "metadata": {
    "execution": {
     "iopub.execute_input": "2022-05-11T09:43:24.895729Z",
     "iopub.status.busy": "2022-05-11T09:43:24.895136Z",
     "iopub.status.idle": "2022-05-11T09:43:24.916357Z",
     "shell.execute_reply": "2022-05-11T09:43:24.915187Z",
     "shell.execute_reply.started": "2022-05-11T09:43:24.895682Z"
    }
   },
   "outputs": [],
   "source": [
    "y_df['y'] = y_df['y'].replace(y_mapping)"
   ]
  },
  {
   "cell_type": "code",
   "execution_count": 19,
   "metadata": {
    "execution": {
     "iopub.execute_input": "2022-05-11T09:43:24.918388Z",
     "iopub.status.busy": "2022-05-11T09:43:24.917822Z",
     "iopub.status.idle": "2022-05-11T09:43:24.930054Z",
     "shell.execute_reply": "2022-05-11T09:43:24.929245Z",
     "shell.execute_reply.started": "2022-05-11T09:43:24.918355Z"
    }
   },
   "outputs": [
    {
     "data": {
      "text/plain": [
       "0       11\n",
       "1       11\n",
       "2       11\n",
       "3       11\n",
       "4       11\n",
       "        ..\n",
       "4961     1\n",
       "4962     1\n",
       "4963     1\n",
       "4964     1\n",
       "4965     1\n",
       "Name: y, Length: 4966, dtype: int64"
      ]
     },
     "execution_count": 19,
     "metadata": {},
     "output_type": "execute_result"
    }
   ],
   "source": [
    "y_df['y']"
   ]
  },
  {
   "cell_type": "code",
   "execution_count": 20,
   "metadata": {
    "execution": {
     "iopub.execute_input": "2022-05-11T09:43:24.931436Z",
     "iopub.status.busy": "2022-05-11T09:43:24.931214Z",
     "iopub.status.idle": "2022-05-11T09:43:25.071281Z",
     "shell.execute_reply": "2022-05-11T09:43:25.070290Z",
     "shell.execute_reply.started": "2022-05-11T09:43:24.931402Z"
    }
   },
   "outputs": [],
   "source": [
    "X = X.astype('float32')"
   ]
  },
  {
   "cell_type": "code",
   "execution_count": 21,
   "metadata": {
    "execution": {
     "iopub.execute_input": "2022-05-11T09:43:25.073152Z",
     "iopub.status.busy": "2022-05-11T09:43:25.072822Z",
     "iopub.status.idle": "2022-05-11T09:43:25.077399Z",
     "shell.execute_reply": "2022-05-11T09:43:25.076546Z",
     "shell.execute_reply.started": "2022-05-11T09:43:25.073110Z"
    }
   },
   "outputs": [],
   "source": [
    "y= y_df['y']"
   ]
  },
  {
   "cell_type": "code",
   "execution_count": 22,
   "metadata": {
    "execution": {
     "iopub.execute_input": "2022-05-11T09:43:25.078734Z",
     "iopub.status.busy": "2022-05-11T09:43:25.078505Z",
     "iopub.status.idle": "2022-05-11T09:43:25.172122Z",
     "shell.execute_reply": "2022-05-11T09:43:25.170942Z",
     "shell.execute_reply.started": "2022-05-11T09:43:25.078705Z"
    }
   },
   "outputs": [],
   "source": [
    "train_x, val_x, train_y, val_y= train_test_split(X, y, test_size= 0.2)"
   ]
  },
  {
   "cell_type": "code",
   "execution_count": 23,
   "metadata": {
    "execution": {
     "iopub.execute_input": "2022-05-11T09:43:25.174394Z",
     "iopub.status.busy": "2022-05-11T09:43:25.173761Z",
     "iopub.status.idle": "2022-05-11T09:43:25.610571Z",
     "shell.execute_reply": "2022-05-11T09:43:25.609675Z",
     "shell.execute_reply.started": "2022-05-11T09:43:25.174345Z"
    }
   },
   "outputs": [],
   "source": [
    "train_y= tf.keras.utils.to_categorical(train_y, 12)\n",
    "val_y= tf.keras.utils.to_categorical(val_y, 12)"
   ]
  },
  {
   "cell_type": "code",
   "execution_count": 24,
   "metadata": {
    "execution": {
     "iopub.execute_input": "2022-05-11T09:43:25.615713Z",
     "iopub.status.busy": "2022-05-11T09:43:25.615452Z",
     "iopub.status.idle": "2022-05-11T09:43:27.357841Z",
     "shell.execute_reply": "2022-05-11T09:43:27.356911Z",
     "shell.execute_reply.started": "2022-05-11T09:43:25.615683Z"
    }
   },
   "outputs": [
    {
     "name": "stderr",
     "output_type": "stream",
     "text": [
      "2022-05-11 09:43:25.668743: I tensorflow/core/common_runtime/process_util.cc:146] Creating new thread pool with default inter op setting: 2. Tune using inter_op_parallelism_threads for best performance.\n"
     ]
    },
    {
     "name": "stdout",
     "output_type": "stream",
     "text": [
      "Model: \"sequential\"\n",
      "_________________________________________________________________\n",
      "Layer (type)                 Output Shape              Param #   \n",
      "=================================================================\n",
      "conv2d (Conv2D)              (None, 62, 62, 16)        448       \n",
      "_________________________________________________________________\n",
      "conv2d_1 (Conv2D)            (None, 60, 60, 32)        4640      \n",
      "_________________________________________________________________\n",
      "max_pooling2d (MaxPooling2D) (None, 30, 30, 32)        0         \n",
      "_________________________________________________________________\n",
      "conv2d_2 (Conv2D)            (None, 28, 28, 64)        18496     \n",
      "_________________________________________________________________\n",
      "max_pooling2d_1 (MaxPooling2 (None, 14, 14, 64)        0         \n",
      "_________________________________________________________________\n",
      "conv2d_3 (Conv2D)            (None, 12, 12, 128)       73856     \n",
      "_________________________________________________________________\n",
      "max_pooling2d_2 (MaxPooling2 (None, 6, 6, 128)         0         \n",
      "_________________________________________________________________\n",
      "dropout (Dropout)            (None, 6, 6, 128)         0         \n",
      "_________________________________________________________________\n",
      "flatten (Flatten)            (None, 4608)              0         \n",
      "_________________________________________________________________\n",
      "dense (Dense)                (None, 64)                294976    \n",
      "_________________________________________________________________\n",
      "dropout_1 (Dropout)          (None, 64)                0         \n",
      "_________________________________________________________________\n",
      "dense_1 (Dense)              (None, 12)                780       \n",
      "=================================================================\n",
      "Total params: 393,196\n",
      "Trainable params: 393,196\n",
      "Non-trainable params: 0\n",
      "_________________________________________________________________\n"
     ]
    },
    {
     "data": {
      "image/png": "[encoded data removed]",
      "text/plain": [
       "<PIL.PngImagePlugin.PngImageFile image mode=RGB size=644x1401 at 0x7F689227BA90>"
      ]
     },
     "metadata": {},
     "output_type": "display_data"
    }
   ],
   "source": [
    "# CNN Model \n",
    "\n",
    "model = Sequential() \n",
    "# Convolutional Layer with input shape (64,64,3)\n",
    "model.add(Conv2D(filters=16, kernel_size= (3,3), activation= 'relu', input_shape=(64,64,3)) )\n",
    "\n",
    "model.add(Conv2D(filters=32, kernel_size=(3,3), activation='relu' ))\n",
    "model.add(MaxPool2D(pool_size=(2,2)))\n",
    "\n",
    "\n",
    "model.add(Conv2D(filters=64, kernel_size=(3,3), activation='relu' ))\n",
    "model.add(MaxPool2D(pool_size=(2,2)))\n",
    "\n",
    "\n",
    "model.add(Conv2D(filters=128, kernel_size=(3,3), activation='relu' ))\n",
    "model.add(MaxPool2D(pool_size=(2,2)))\n",
    "\n",
    "model.add(Dropout(rate=0.25))\n",
    "\n",
    "model.add(Flatten())\n",
    "model.add(Dense(units=64, activation='relu'))\n",
    "model.add(Dropout(rate=0.25))\n",
    "model.add(Dense(units=12, activation='softmax'))\n",
    "\n",
    "#model.compile(optimizer='adam', loss='categorical_crossentropy', metrics=['accuracy']  )\n",
    "model.compile(optimizer = 'adam', loss = 'categorical_crossentropy', metrics =[\"accuracy\",keras.metrics.Recall(\n",
    "    thresholds=None, top_k=None, class_id=None, name=None, dtype=None\n",
    ")])\n",
    "model.summary()\n",
    "plot_model(model, to_file='saratani_model.png', show_shapes=True, show_layer_names=True)\n",
    "display(Image.open('saratani_model.png'))"
   ]
  },
  {
   "cell_type": "code",
   "execution_count": 25,
   "metadata": {
    "execution": {
     "iopub.execute_input": "2022-05-11T09:43:27.360090Z",
     "iopub.status.busy": "2022-05-11T09:43:27.359354Z",
     "iopub.status.idle": "2022-05-11T09:43:27.365987Z",
     "shell.execute_reply": "2022-05-11T09:43:27.365151Z",
     "shell.execute_reply.started": "2022-05-11T09:43:27.360054Z"
    }
   },
   "outputs": [],
   "source": [
    "# Adding Model check point Callback\n",
    "mc = ModelCheckpoint(filepath=\"saratani_best_model.hdf5\", monitor= 'val_accuracy', verbose= 1, save_best_only= True, mode = 'auto');\n",
    "call_back = [ mc ]"
   ]
  },
  {
   "cell_type": "code",
   "execution_count": 26,
   "metadata": {
    "execution": {
     "iopub.execute_input": "2022-05-11T09:43:27.367496Z",
     "iopub.status.busy": "2022-05-11T09:43:27.367155Z",
     "iopub.status.idle": "2022-05-11T09:50:34.314681Z",
     "shell.execute_reply": "2022-05-11T09:50:34.313516Z",
     "shell.execute_reply.started": "2022-05-11T09:43:27.367458Z"
    }
   },
   "outputs": [
    {
     "name": "stderr",
     "output_type": "stream",
     "text": [
      "2022-05-11 09:43:28.095940: I tensorflow/compiler/mlir/mlir_graph_optimization_pass.cc:185] None of the MLIR Optimization Passes are enabled (registered 2)\n"
     ]
    },
    {
     "name": "stdout",
     "output_type": "stream",
     "text": [
      "Epoch 1/32\n",
      "125/125 - 17s - loss: 1.8063 - accuracy: 0.3640 - recall: 0.1236 - val_loss: 1.6099 - val_accuracy: 0.5030 - val_recall: 0.1449\n",
      "\n",
      "Epoch 00001: val_accuracy improved from -inf to 0.50302, saving model to saratani_best_model.hdf5\n",
      "Epoch 2/32\n",
      "125/125 - 14s - loss: 1.5481 - accuracy: 0.4927 - recall: 0.2480 - val_loss: 1.4043 - val_accuracy: 0.5694 - val_recall: 0.3179\n",
      "\n",
      "Epoch 00002: val_accuracy improved from 0.50302 to 0.56942, saving model to saratani_best_model.hdf5\n",
      "Epoch 3/32\n",
      "125/125 - 13s - loss: 1.3668 - accuracy: 0.5677 - recall: 0.3708 - val_loss: 1.1970 - val_accuracy: 0.6328 - val_recall: 0.3883\n",
      "\n",
      "Epoch 00003: val_accuracy improved from 0.56942 to 0.63280, saving model to saratani_best_model.hdf5\n",
      "Epoch 4/32\n",
      "125/125 - 14s - loss: 1.2676 - accuracy: 0.5937 - recall: 0.4230 - val_loss: 1.1638 - val_accuracy: 0.5895 - val_recall: 0.4879\n",
      "\n",
      "Epoch 00004: val_accuracy did not improve from 0.63280\n",
      "Epoch 5/32\n",
      "125/125 - 13s - loss: 1.1275 - accuracy: 0.6234 - recall: 0.4919 - val_loss: 1.0551 - val_accuracy: 0.6187 - val_recall: 0.5543\n",
      "\n",
      "Epoch 00005: val_accuracy did not improve from 0.63280\n",
      "Epoch 6/32\n",
      "125/125 - 13s - loss: 1.0761 - accuracy: 0.6531 - recall: 0.5113 - val_loss: 0.9700 - val_accuracy: 0.6761 - val_recall: 0.5412\n",
      "\n",
      "Epoch 00006: val_accuracy improved from 0.63280 to 0.67606, saving model to saratani_best_model.hdf5\n",
      "Epoch 7/32\n",
      "125/125 - 14s - loss: 0.9537 - accuracy: 0.6833 - recall: 0.5614 - val_loss: 0.8449 - val_accuracy: 0.7233 - val_recall: 0.5885\n",
      "\n",
      "Epoch 00007: val_accuracy improved from 0.67606 to 0.72334, saving model to saratani_best_model.hdf5\n",
      "Epoch 8/32\n",
      "125/125 - 13s - loss: 0.8974 - accuracy: 0.7057 - recall: 0.5886 - val_loss: 0.8919 - val_accuracy: 0.7133 - val_recall: 0.5503\n",
      "\n",
      "Epoch 00008: val_accuracy did not improve from 0.72334\n",
      "Epoch 9/32\n",
      "125/125 - 14s - loss: 0.8394 - accuracy: 0.7173 - recall: 0.6057 - val_loss: 0.7499 - val_accuracy: 0.7404 - val_recall: 0.6539\n",
      "\n",
      "Epoch 00009: val_accuracy improved from 0.72334 to 0.74044, saving model to saratani_best_model.hdf5\n",
      "Epoch 10/32\n",
      "125/125 - 13s - loss: 0.7568 - accuracy: 0.7467 - recall: 0.6478 - val_loss: 0.7445 - val_accuracy: 0.7515 - val_recall: 0.6801\n",
      "\n",
      "Epoch 00010: val_accuracy improved from 0.74044 to 0.75151, saving model to saratani_best_model.hdf5\n",
      "Epoch 11/32\n",
      "125/125 - 13s - loss: 0.7255 - accuracy: 0.7530 - recall: 0.6641 - val_loss: 0.7059 - val_accuracy: 0.7706 - val_recall: 0.7082\n",
      "\n",
      "Epoch 00011: val_accuracy improved from 0.75151 to 0.77062, saving model to saratani_best_model.hdf5\n",
      "Epoch 12/32\n",
      "125/125 - 14s - loss: 0.6682 - accuracy: 0.7764 - recall: 0.6911 - val_loss: 0.7307 - val_accuracy: 0.7656 - val_recall: 0.7163\n",
      "\n",
      "Epoch 00012: val_accuracy did not improve from 0.77062\n",
      "Epoch 13/32\n",
      "125/125 - 13s - loss: 0.5918 - accuracy: 0.7946 - recall: 0.7246 - val_loss: 0.6611 - val_accuracy: 0.7847 - val_recall: 0.7133\n",
      "\n",
      "Epoch 00013: val_accuracy improved from 0.77062 to 0.78471, saving model to saratani_best_model.hdf5\n",
      "Epoch 14/32\n",
      "125/125 - 14s - loss: 0.5796 - accuracy: 0.7968 - recall: 0.7329 - val_loss: 0.6474 - val_accuracy: 0.7857 - val_recall: 0.7284\n",
      "\n",
      "Epoch 00014: val_accuracy improved from 0.78471 to 0.78571, saving model to saratani_best_model.hdf5\n",
      "Epoch 15/32\n",
      "125/125 - 13s - loss: 0.5504 - accuracy: 0.8061 - recall: 0.7397 - val_loss: 0.6195 - val_accuracy: 0.7918 - val_recall: 0.7374\n",
      "\n",
      "Epoch 00015: val_accuracy improved from 0.78571 to 0.79175, saving model to saratani_best_model.hdf5\n",
      "Epoch 16/32\n",
      "125/125 - 13s - loss: 0.5058 - accuracy: 0.8263 - recall: 0.7681 - val_loss: 0.5460 - val_accuracy: 0.8260 - val_recall: 0.7626\n",
      "\n",
      "Epoch 00016: val_accuracy improved from 0.79175 to 0.82596, saving model to saratani_best_model.hdf5\n",
      "Epoch 17/32\n",
      "125/125 - 14s - loss: 0.5028 - accuracy: 0.8313 - recall: 0.7722 - val_loss: 0.6315 - val_accuracy: 0.7968 - val_recall: 0.7213\n",
      "\n",
      "Epoch 00017: val_accuracy did not improve from 0.82596\n",
      "Epoch 18/32\n",
      "125/125 - 13s - loss: 0.4480 - accuracy: 0.8389 - recall: 0.7855 - val_loss: 0.5291 - val_accuracy: 0.8350 - val_recall: 0.7867\n",
      "\n",
      "Epoch 00018: val_accuracy improved from 0.82596 to 0.83501, saving model to saratani_best_model.hdf5\n",
      "Epoch 19/32\n",
      "125/125 - 14s - loss: 0.4805 - accuracy: 0.8296 - recall: 0.7734 - val_loss: 0.5747 - val_accuracy: 0.8038 - val_recall: 0.7545\n",
      "\n",
      "Epoch 00019: val_accuracy did not improve from 0.83501\n",
      "Epoch 20/32\n",
      "125/125 - 13s - loss: 0.3942 - accuracy: 0.8537 - recall: 0.8087 - val_loss: 0.5147 - val_accuracy: 0.8310 - val_recall: 0.7988\n",
      "\n",
      "Epoch 00020: val_accuracy did not improve from 0.83501\n",
      "Epoch 21/32\n",
      "125/125 - 13s - loss: 0.3818 - accuracy: 0.8706 - recall: 0.8298 - val_loss: 0.5715 - val_accuracy: 0.8219 - val_recall: 0.7746\n",
      "\n",
      "Epoch 00021: val_accuracy did not improve from 0.83501\n",
      "Epoch 22/32\n",
      "125/125 - 14s - loss: 0.4110 - accuracy: 0.8512 - recall: 0.8069 - val_loss: 0.5038 - val_accuracy: 0.8340 - val_recall: 0.7907\n",
      "\n",
      "Epoch 00022: val_accuracy did not improve from 0.83501\n",
      "Epoch 23/32\n",
      "125/125 - 13s - loss: 0.3727 - accuracy: 0.8648 - recall: 0.8218 - val_loss: 0.6553 - val_accuracy: 0.7918 - val_recall: 0.7575\n",
      "\n",
      "Epoch 00023: val_accuracy did not improve from 0.83501\n",
      "Epoch 24/32\n",
      "125/125 - 13s - loss: 0.3369 - accuracy: 0.8814 - recall: 0.8432 - val_loss: 0.5402 - val_accuracy: 0.8421 - val_recall: 0.8129\n",
      "\n",
      "Epoch 00024: val_accuracy improved from 0.83501 to 0.84205, saving model to saratani_best_model.hdf5\n",
      "Epoch 25/32\n",
      "125/125 - 14s - loss: 0.3388 - accuracy: 0.8751 - recall: 0.8369 - val_loss: 0.5408 - val_accuracy: 0.8340 - val_recall: 0.8099\n",
      "\n",
      "Epoch 00025: val_accuracy did not improve from 0.84205\n",
      "Epoch 26/32\n",
      "125/125 - 13s - loss: 0.3363 - accuracy: 0.8754 - recall: 0.8416 - val_loss: 0.5995 - val_accuracy: 0.8058 - val_recall: 0.7706\n",
      "\n",
      "Epoch 00026: val_accuracy did not improve from 0.84205\n",
      "Epoch 27/32\n",
      "125/125 - 14s - loss: 0.3136 - accuracy: 0.8880 - recall: 0.8555 - val_loss: 0.5594 - val_accuracy: 0.8229 - val_recall: 0.7968\n",
      "\n",
      "Epoch 00027: val_accuracy did not improve from 0.84205\n",
      "Epoch 28/32\n",
      "125/125 - 13s - loss: 0.2924 - accuracy: 0.8938 - recall: 0.8605 - val_loss: 0.5469 - val_accuracy: 0.8290 - val_recall: 0.8119\n",
      "\n",
      "Epoch 00028: val_accuracy did not improve from 0.84205\n",
      "Epoch 29/32\n",
      "125/125 - 13s - loss: 0.2975 - accuracy: 0.8965 - recall: 0.8661 - val_loss: 0.5578 - val_accuracy: 0.8290 - val_recall: 0.8018\n",
      "\n",
      "Epoch 00029: val_accuracy did not improve from 0.84205\n",
      "Epoch 30/32\n",
      "125/125 - 13s - loss: 0.2611 - accuracy: 0.9076 - recall: 0.8807 - val_loss: 0.5466 - val_accuracy: 0.8471 - val_recall: 0.8300\n",
      "\n",
      "Epoch 00030: val_accuracy improved from 0.84205 to 0.84708, saving model to saratani_best_model.hdf5\n",
      "Epoch 31/32\n",
      "125/125 - 13s - loss: 0.2944 - accuracy: 0.8933 - recall: 0.8648 - val_loss: 0.6663 - val_accuracy: 0.8239 - val_recall: 0.8038\n",
      "\n",
      "Epoch 00031: val_accuracy did not improve from 0.84708\n",
      "Epoch 32/32\n",
      "125/125 - 14s - loss: 0.2537 - accuracy: 0.9053 - recall: 0.8844 - val_loss: 0.6520 - val_accuracy: 0.8169 - val_recall: 0.7998\n",
      "\n",
      "Epoch 00032: val_accuracy did not improve from 0.84708\n"
     ]
    }
   ],
   "source": [
    "history= model.fit(train_x, train_y,\n",
    "                   epochs= 32,batch_size= 32, verbose= 2,\n",
    "                   validation_data= (val_x, val_y), callbacks= call_back)"
   ]
  },
  {
   "cell_type": "code",
   "execution_count": 27,
   "metadata": {
    "execution": {
     "iopub.execute_input": "2022-05-11T09:50:34.316810Z",
     "iopub.status.busy": "2022-05-11T09:50:34.316532Z",
     "iopub.status.idle": "2022-05-11T09:50:34.323197Z",
     "shell.execute_reply": "2022-05-11T09:50:34.322237Z",
     "shell.execute_reply.started": "2022-05-11T09:50:34.316774Z"
    }
   },
   "outputs": [
    {
     "name": "stdout",
     "output_type": "stream",
     "text": [
      "dict_keys(['loss', 'accuracy', 'recall', 'val_loss', 'val_accuracy', 'val_recall'])\n"
     ]
    }
   ],
   "source": [
    "print(model.history.history.keys())"
   ]
  },
  {
   "cell_type": "code",
   "execution_count": 28,
   "metadata": {
    "execution": {
     "iopub.execute_input": "2022-05-11T09:50:34.325700Z",
     "iopub.status.busy": "2022-05-11T09:50:34.324872Z",
     "iopub.status.idle": "2022-05-11T09:50:35.066170Z",
     "shell.execute_reply": "2022-05-11T09:50:35.065227Z",
     "shell.execute_reply.started": "2022-05-11T09:50:34.325656Z"
    }
   },
   "outputs": [
    {
     "data": {
      "image/png": "[encoded data removed]",
      "text/plain": [
       "<Figure size 432x288 with 1 Axes>"
      ]
     },
     "metadata": {
      "needs_background": "light"
     },
     "output_type": "display_data"
    },
    {
     "data": {
      "image/png": "[encoded data removed]",
      "text/plain": [
       "<Figure size 432x288 with 1 Axes>"
      ]
     },
     "metadata": {
      "needs_background": "light"
     },
     "output_type": "display_data"
    }
   ],
   "source": [
    "plt.plot(model.history.history['accuracy'])\n",
    "plt.plot(model.history.history['val_accuracy'])\n",
    "plt.title('Model accuracy')\n",
    "plt.ylabel('accuracy')\n",
    "plt.xlabel('Epoch')\n",
    "plt.legend(['Train', 'Test'], loc='upper left')\n",
    "plt.show()\n",
    "\n",
    "\n",
    "# Plot training & validation loss values\n",
    "plt.plot(model.history.history['loss'])\n",
    "plt.plot(model.history.history['val_loss'])\n",
    "plt.title('Model loss')\n",
    "plt.ylabel('Loss')\n",
    "plt.xlabel('Epochs')\n",
    "plt.legend(['Train', 'Test'], loc='upper left')\n",
    "plt.show()                                                       "
   ]
  },
  {
   "cell_type": "code",
   "execution_count": 29,
   "metadata": {
    "execution": {
     "iopub.execute_input": "2022-05-11T09:50:35.067973Z",
     "iopub.status.busy": "2022-05-11T09:50:35.067621Z",
     "iopub.status.idle": "2022-05-11T09:50:35.112608Z",
     "shell.execute_reply": "2022-05-11T09:50:35.111869Z",
     "shell.execute_reply.started": "2022-05-11T09:50:35.067906Z"
    }
   },
   "outputs": [],
   "source": [
    "model.save('saratani_predictive_model.h5')"
   ]
  }
 ],
 "metadata": {
  "kernelspec": {
   "display_name": "Python 3 (ipykernel)",
   "language": "python",
   "name": "python3"
  },
  "language_info": {
   "codemirror_mode": {
    "name": "ipython",
    "version": 3
   },
   "file_extension": ".py",
   "mimetype": "text/x-python",
   "name": "python",
   "nbconvert_exporter": "python",
   "pygments_lexer": "ipython3",
   "version": "3.11.5"
  }
 },
 "nbformat": 4,
 "nbformat_minor": 4
}
